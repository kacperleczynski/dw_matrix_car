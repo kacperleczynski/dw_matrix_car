{
  "nbformat": 4,
  "nbformat_minor": 0,
  "metadata": {
    "colab": {
      "name": "day2_visualisation.ipynb",
      "provenance": [],
      "mount_file_id": "1g5YSd6QCJUfubwUdNkl32gubQQp753e_",
      "authorship_tag": "ABX9TyOshxxbRtQgX8D8/dWVPP+C",
      "include_colab_link": true
    },
    "kernelspec": {
      "name": "python3",
      "display_name": "Python 3"
    }
  },
  "cells": [
    {
      "cell_type": "markdown",
      "metadata": {
        "id": "view-in-github",
        "colab_type": "text"
      },
      "source": [
        "<a href=\"https://colab.research.google.com/github/python11312/dw_matrix_car/blob/master/day2_visualisation.ipynb\" target=\"_parent\"><img src=\"https://colab.research.google.com/assets/colab-badge.svg\" alt=\"Open In Colab\"/></a>"
      ]
    },
    {
      "cell_type": "code",
      "metadata": {
        "id": "BjlAAp9ZxZ6B",
        "colab_type": "code",
        "colab": {
          "base_uri": "https://localhost:8080/",
          "height": 207
        },
        "outputId": "ecc7e0ed-b1d5-4a25-fa14-f69e490eaf0e"
      },
      "source": [
        "!pip install --upgrade tables"
      ],
      "execution_count": 1,
      "outputs": [
        {
          "output_type": "stream",
          "text": [
            "Collecting tables\n",
            "\u001b[?25l  Downloading https://files.pythonhosted.org/packages/ed/c3/8fd9e3bb21872f9d69eb93b3014c86479864cca94e625fd03713ccacec80/tables-3.6.1-cp36-cp36m-manylinux1_x86_64.whl (4.3MB)\n",
            "\u001b[K     |████████████████████████████████| 4.3MB 3.4MB/s \n",
            "\u001b[?25hRequirement already satisfied, skipping upgrade: numexpr>=2.6.2 in /usr/local/lib/python3.6/dist-packages (from tables) (2.7.1)\n",
            "Requirement already satisfied, skipping upgrade: numpy>=1.9.3 in /usr/local/lib/python3.6/dist-packages (from tables) (1.17.5)\n",
            "Installing collected packages: tables\n",
            "  Found existing installation: tables 3.4.4\n",
            "    Uninstalling tables-3.4.4:\n",
            "      Successfully uninstalled tables-3.4.4\n",
            "Successfully installed tables-3.6.1\n"
          ],
          "name": "stdout"
        }
      ]
    },
    {
      "cell_type": "code",
      "metadata": {
        "id": "qanlVLJuyOer",
        "colab_type": "code",
        "colab": {}
      },
      "source": [
        "import pandas as pd\n",
        "import numpy as np\n",
        "import matplotlib.pyplot as plt\n",
        "import seaborn as sns"
      ],
      "execution_count": 0,
      "outputs": []
    },
    {
      "cell_type": "code",
      "metadata": {
        "id": "IbgCd9HcycPb",
        "colab_type": "code",
        "colab": {
          "base_uri": "https://localhost:8080/",
          "height": 34
        },
        "outputId": "5afa1c6b-e817-479a-cb83-c3ecd1947bd7"
      },
      "source": [
        "cd '/content/drive/My Drive/Colab Notebooks/projekt-transformacja/matrix_two/dw_matrix_car'"
      ],
      "execution_count": 4,
      "outputs": [
        {
          "output_type": "stream",
          "text": [
            "/content/drive/My Drive/Colab Notebooks/projekt-transformacja/matrix_two/dw_matrix_car\n"
          ],
          "name": "stdout"
        }
      ]
    },
    {
      "cell_type": "code",
      "metadata": {
        "id": "TqUwLxeHywEm",
        "colab_type": "code",
        "colab": {
          "base_uri": "https://localhost:8080/",
          "height": 34
        },
        "outputId": "08f86312-cb08-41b5-b47b-b74f105281e3"
      },
      "source": [
        "ls data/car.h5"
      ],
      "execution_count": 5,
      "outputs": [
        {
          "output_type": "stream",
          "text": [
            "data/car.h5\n"
          ],
          "name": "stdout"
        }
      ]
    },
    {
      "cell_type": "code",
      "metadata": {
        "id": "oBfYmiQ8zBCW",
        "colab_type": "code",
        "colab": {
          "base_uri": "https://localhost:8080/",
          "height": 34
        },
        "outputId": "84ab29be-86b7-479f-96cc-6b6696988ceb"
      },
      "source": [
        "df = pd.read_hdf('data/car.h5')\n",
        "df.shape"
      ],
      "execution_count": 6,
      "outputs": [
        {
          "output_type": "execute_result",
          "data": {
            "text/plain": [
              "(106494, 155)"
            ]
          },
          "metadata": {
            "tags": []
          },
          "execution_count": 6
        }
      ]
    },
    {
      "cell_type": "code",
      "metadata": {
        "id": "9h_oplYzzLZV",
        "colab_type": "code",
        "colab": {
          "base_uri": "https://localhost:8080/",
          "height": 1000
        },
        "outputId": "0cc86146-a8f7-4ce3-c69d-8b527faf040d"
      },
      "source": [
        "df.columns.values"
      ],
      "execution_count": 7,
      "outputs": [
        {
          "output_type": "execute_result",
          "data": {
            "text/plain": [
              "array(['breadcrumb', 'created_at', 'price_currency', 'price_details',\n",
              "       'price_value', 'seller_address', 'seller_name', 'seller_type',\n",
              "       'feature_czujniki-parkowania-przednie',\n",
              "       'feature_poduszka-powietrzna-chroniąca-kolana',\n",
              "       'feature_kurtyny-powietrzne', 'feature_klimatyzacja-dwustrefowa',\n",
              "       'feature_światła-led', 'feature_czujnik-zmierzchu',\n",
              "       'feature_elektrycznie-ustawiane-lusterka',\n",
              "       'feature_asr-(kontrola-trakcji)',\n",
              "       'feature_poduszka-powietrzna-kierowcy', 'feature_cd',\n",
              "       'feature_elektryczne-szyby-przednie',\n",
              "       'feature_poduszka-powietrzna-pasażera',\n",
              "       'feature_system-start-stop', 'feature_światła-do-jazdy-dziennej',\n",
              "       'feature_komputer-pokładowy', 'feature_elektryczne-szyby-tylne',\n",
              "       'feature_klimatyzacja-manualna', 'feature_tapicerka-welurowa',\n",
              "       'feature_czujnik-deszczu', 'feature_światła-przeciwmgielne',\n",
              "       'feature_ogrzewanie-postojowe', 'feature_radio-niefabryczne',\n",
              "       'feature_regulowane-zawieszenie', 'feature_ogranicznik-prędkości',\n",
              "       'feature_zmieniarka-cd', 'feature_szyberdach', 'feature_isofix',\n",
              "       'feature_asystent-pasa-ruchu', 'feature_alufelgi',\n",
              "       'feature_bluetooth', 'feature_nawigacja-gps',\n",
              "       'feature_asystent-parkowania', 'feature_wspomaganie-kierownicy',\n",
              "       'feature_podgrzewana-przednia-szyba',\n",
              "       'feature_przyciemniane-szyby',\n",
              "       'feature_elektrycznie-ustawiane-fotele',\n",
              "       'feature_klimatyzacja-czterostrefowa', 'feature_tuner-tv',\n",
              "       'feature_poduszki-boczne-przednie', 'feature_tempomat-aktywny',\n",
              "       'feature_klimatyzacja-automatyczna',\n",
              "       'feature_poduszki-boczne-tylne', 'feature_radio-fabryczne',\n",
              "       'feature_odtwarzacz-dvd', 'feature_czujniki-parkowania-tylne',\n",
              "       'feature_łopatki-zmiany-biegów', 'feature_centralny-zamek',\n",
              "       'feature_dach-panoramiczny', 'feature_kamera-cofania',\n",
              "       'feature_immobilizer', 'feature_czujnik-martwego-pola',\n",
              "       'feature_gniazdo-sd', 'feature_podgrzewane-lusterka-boczne',\n",
              "       'feature_podgrzewane-przednie-siedzenia', 'feature_hak',\n",
              "       'feature_abs', 'feature_wielofunkcyjna-kierownica',\n",
              "       'feature_światła-xenonowe', 'feature_gniazdo-usb',\n",
              "       'feature_tapicerka-skórzana', 'feature_gniazdo-aux',\n",
              "       'feature_esp-(stabilizacja-toru-jazdy)', 'feature_alarm',\n",
              "       'feature_podgrzewane-tylne-siedzenia', 'feature_mp3',\n",
              "       'feature_tempomat', 'feature_hud-(wyświetlacz-przezierny)',\n",
              "       'feature_elektrochromatyczne-lusterko-wsteczne',\n",
              "       'feature_relingi-dachowe',\n",
              "       'feature_elektrochromatyczne-lusterka-boczne',\n",
              "       'param_liczba-miejsc', 'param_uszkodzony', 'param_marka-pojazdu',\n",
              "       'param_model', 'param_engine-code', 'param_liczba-drzwi',\n",
              "       'param_first-registration', 'param_country-of-origin',\n",
              "       'param_pierwsza-rejestracja', 'param_gearbox', 'param_przebieg',\n",
              "       'param_faktura-vat', 'param_rok-produkcji', 'param_vin',\n",
              "       'param_perłowy', 'param_homologacja-ciężarowa',\n",
              "       'param_service-record', 'param_metallic',\n",
              "       'param_leasing-concession', 'param_color',\n",
              "       'param_financing-option', 'param_original-owner',\n",
              "       'param_vat-marża', 'param_kategoria', 'param_co2-emissions',\n",
              "       'param_leasing', 'param_mileage',\n",
              "       'param_zarejestrowany-jako-zabytek', 'param_napęd',\n",
              "       'param_wartość-wykupu', 'param_typ', 'param_metalik',\n",
              "       'param_pierwszy-właściciel', 'param_skrzynia-biegów',\n",
              "       'param_vat-discount', 'param_no-accident',\n",
              "       'param_liczba-pozostałych-rat', 'param_particle-filter',\n",
              "       'param_zarejestrowany-w-polsce', 'param_oferta-od', 'param_moc',\n",
              "       'param_make', 'param_kraj-pochodzenia', 'param_engine-power',\n",
              "       'param_year', 'param_serwisowany-w-aso', 'param_rodzaj-paliwa',\n",
              "       'param_możliwość-finansowania', 'param_registered-in-poland',\n",
              "       'param_transmission', 'param_miesięczna-rata', 'param_kod-silnika',\n",
              "       'param_version', 'param_opłata-początkowa', 'param_model-pojazdu',\n",
              "       'param_pojemność-skokowa', 'param_kierownica-po-prawej-(anglik)',\n",
              "       'param_fuel-type', 'param_vat-free', 'param_acrylic',\n",
              "       'param_damaged', 'param_door-count', 'param_tuning',\n",
              "       'param_filtr-cząstek-stałych', 'param_nr-of-seats', 'param_kolor',\n",
              "       'param_engine-capacity', 'param_pearl', 'param_stan',\n",
              "       'param_wersja', 'param_emisja-co2', 'param_body-type',\n",
              "       'param_matowy', 'param_bezwypadkowy',\n",
              "       'param_akryl-(niemetalizowany)', 'param_monthly-payment-value',\n",
              "       'car_id'], dtype=object)"
            ]
          },
          "metadata": {
            "tags": []
          },
          "execution_count": 7
        }
      ]
    },
    {
      "cell_type": "code",
      "metadata": {
        "id": "ySV6xfRazPHd",
        "colab_type": "code",
        "colab": {
          "base_uri": "https://localhost:8080/",
          "height": 282
        },
        "outputId": "15a502f5-c537-4567-94b1-b23e436c99d8"
      },
      "source": [
        "df['price_value'].hist(bins = 100)"
      ],
      "execution_count": 9,
      "outputs": [
        {
          "output_type": "execute_result",
          "data": {
            "text/plain": [
              "<matplotlib.axes._subplots.AxesSubplot at 0x7f9881622780>"
            ]
          },
          "metadata": {
            "tags": []
          },
          "execution_count": 9
        },
        {
          "output_type": "display_data",
          "data": {
            "image/png": "[encoded data removed]",
            "text/plain": [
              "<Figure size 432x288 with 1 Axes>"
            ]
          },
          "metadata": {
            "tags": []
          }
        }
      ]
    },
    {
      "cell_type": "code",
      "metadata": {
        "id": "uh1rmDPKzg8W",
        "colab_type": "code",
        "colab": {
          "base_uri": "https://localhost:8080/",
          "height": 34
        },
        "outputId": "45cc8669-eed3-4e8e-faa6-ea322844ac78"
      },
      "source": [
        "df['price_value'].max()"
      ],
      "execution_count": 10,
      "outputs": [
        {
          "output_type": "execute_result",
          "data": {
            "text/plain": [
              "799900.0"
            ]
          },
          "metadata": {
            "tags": []
          },
          "execution_count": 10
        }
      ]
    },
    {
      "cell_type": "code",
      "metadata": {
        "id": "qFBxL53yzuXX",
        "colab_type": "code",
        "colab": {}
      },
      "source": [
        "def group_and_plot(feat_groupby, feat_agg = 'price_value', agg_funcs=[np.mean, np.median, np.size], feat_sort='mean',top=50,subplots = True):\n",
        "  return (\n",
        "  df\n",
        "  .groupby(feat_groupby)[feat_agg]\n",
        "  .agg(agg_funcs)\n",
        "  .sort_values(by = feat_sort,ascending = False)\n",
        "  .head(top)\n",
        "\n",
        ").plot(kind = 'bar',figsize = (15,5), subplots = subplots)\n"
      ],
      "execution_count": 0,
      "outputs": []
    },
    {
      "cell_type": "code",
      "metadata": {
        "id": "BV-ujTnb0JFG",
        "colab_type": "code",
        "colab": {
          "base_uri": "https://localhost:8080/",
          "height": 435
        },
        "outputId": "c2b3044e-4479-4749-8eae-48cb07d91ef0"
      },
      "source": [
        "group_and_plot('feature_poduszki-boczne-tylne')"
      ],
      "execution_count": 33,
      "outputs": [
        {
          "output_type": "execute_result",
          "data": {
            "text/plain": [
              "array([<matplotlib.axes._subplots.AxesSubplot object at 0x7f987f7b8cc0>,\n",
              "       <matplotlib.axes._subplots.AxesSubplot object at 0x7f987f835160>,\n",
              "       <matplotlib.axes._subplots.AxesSubplot object at 0x7f987f71cc88>],\n",
              "      dtype=object)"
            ]
          },
          "metadata": {
            "tags": []
          },
          "execution_count": 33
        },
        {
          "output_type": "display_data",
          "data": {
            "image/png": "[encoded data removed]",
            "text/plain": [
              "<Figure size 1080x360 with 3 Axes>"
            ]
          },
          "metadata": {
            "tags": []
          }
        }
      ]
    },
    {
      "cell_type": "code",
      "metadata": {
        "id": "nPLCiFgl5Pxe",
        "colab_type": "code",
        "colab": {}
      },
      "source": [
        ""
      ],
      "execution_count": 0,
      "outputs": []
    }
  ]
}